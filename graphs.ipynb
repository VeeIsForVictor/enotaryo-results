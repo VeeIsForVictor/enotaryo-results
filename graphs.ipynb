{
 "cells": [
  {
   "cell_type": "code",
   "execution_count": 1,
   "id": "c07283a8",
   "metadata": {},
   "outputs": [],
   "source": [
    "import jsonlines\n",
    "import json\n",
    "import polars as pl"
   ]
  },
  {
   "cell_type": "code",
   "execution_count": 2,
   "id": "d5d3f836",
   "metadata": {},
   "outputs": [
    {
     "data": {
      "text/plain": [
       "[{'level': 30,\n",
       "  'time': 1748016000227,\n",
       "  'pid': 1,\n",
       "  'clientAddress': '172.22.0.1',\n",
       "  'method': 'POST',\n",
       "  'url': 'https://enotaryo.crabdance.com/otp?/approve',\n",
       "  'body': {'txnId': '2406642583', 'otp': '111111'},\n",
       "  'msg': 'transaction patch attempt'},\n",
       " {'level': 30,\n",
       "  'time': 1748016000227,\n",
       "  'pid': 1,\n",
       "  'clientAddress': '172.22.0.1',\n",
       "  'method': 'POST',\n",
       "  'url': 'https://enotaryo.crabdance.com/otp?/approve',\n",
       "  'requestHandleTime': 0.03625600039958954},\n",
       " {'level': 30,\n",
       "  'time': 1748016000577,\n",
       "  'pid': 1,\n",
       "  'clientAddress': '172.22.0.1',\n",
       "  'method': 'PATCH',\n",
       "  'url': 'https://enotaryo.crabdance.com/api/otpTransaction',\n",
       "  'requestHandleTime': 0.016787000000476837}]"
      ]
     },
     "execution_count": 2,
     "metadata": {},
     "output_type": "execute_result"
    }
   ],
   "source": [
    "# lines contains all log lines\n",
    "lines = []\n",
    "with jsonlines.open('logs.jsonl') as reader:\n",
    "    for log in reader:\n",
    "        lines.append(json.JSONDecoder().decode(log['line']))\n",
    "lines[:3]"
   ]
  },
  {
   "cell_type": "code",
   "execution_count": 3,
   "id": "94d5f1f8",
   "metadata": {},
   "outputs": [
    {
     "data": {
      "text/plain": [
       "[{'level': 30,\n",
       "  'time': 1748016000849,\n",
       "  'pid': 1020205,\n",
       "  'start': '11:59:45 PM',\n",
       "  'document': 0,\n",
       "  'msg': 'finished test #a-0'},\n",
       " {'level': 30,\n",
       "  'time': 1748016002122,\n",
       "  'pid': 1020205,\n",
       "  'start': '11:59:45 PM',\n",
       "  'msg': 'navigating to document: a-1'},\n",
       " {'level': 30,\n",
       "  'time': 1748016002141,\n",
       "  'pid': 1020205,\n",
       "  'start': '11:59:45 PM',\n",
       "  'msg': 'clicking file input: a-1'}]"
      ]
     },
     "execution_count": 3,
     "metadata": {},
     "output_type": "execute_result"
    }
   ],
   "source": [
    "# lines containing all testing log lines\n",
    "testing_lines = []\n",
    "with jsonlines.open('tester_logs.jsonl') as reader:\n",
    "    for log in reader:\n",
    "        testing_lines.append(json.JSONDecoder().decode(log['line']))\n",
    "testing_lines[:3]"
   ]
  },
  {
   "cell_type": "code",
   "execution_count": 4,
   "id": "0917d1f8",
   "metadata": {},
   "outputs": [
    {
     "data": {
      "text/plain": [
       "[{'level': 30,\n",
       "  'time': 1748016000928,\n",
       "  'pid': 1,\n",
       "  'clientAddress': '172.22.0.1',\n",
       "  'method': 'PATCH',\n",
       "  'url': 'https://enotaryo.crabdance.com/api/otpTransaction',\n",
       "  'routine': 'b3',\n",
       "  'elapsedTime': 350.1578550003469,\n",
       "  'msg': 'routine b3'},\n",
       " {'level': 30,\n",
       "  'time': 1748016003717,\n",
       "  'pid': 1,\n",
       "  'clientAddress': '172.22.0.1',\n",
       "  'method': 'POST',\n",
       "  'url': 'https://enotaryo.crabdance.com/api/document',\n",
       "  'routine': 'a3.1',\n",
       "  'elapsedTime': 369.9873789995909,\n",
       "  'msg': 'routine a3.1'},\n",
       " {'level': 30,\n",
       "  'time': 1748016004130,\n",
       "  'pid': 1,\n",
       "  'clientAddress': '172.22.0.1',\n",
       "  'method': 'PATCH',\n",
       "  'url': 'https://enotaryo.crabdance.com/api/otpTransaction',\n",
       "  'routine': 'b4',\n",
       "  'elapsedTime': 2852.8324120007455,\n",
       "  'msg': 'routine b4'}]"
      ]
     },
     "execution_count": 4,
     "metadata": {},
     "output_type": "execute_result"
    }
   ],
   "source": [
    "# routines contains all lines relevant to routines\n",
    "routines = list(filter(lambda x: x.get('routine', None) is not None, lines))\n",
    "\n",
    "routines[:3]"
   ]
  },
  {
   "cell_type": "code",
   "execution_count": 5,
   "id": "75274c9c",
   "metadata": {},
   "outputs": [
    {
     "data": {
      "text/plain": [
       "104757"
      ]
     },
     "execution_count": 5,
     "metadata": {},
     "output_type": "execute_result"
    }
   ],
   "source": [
    "len(routines)"
   ]
  },
  {
   "cell_type": "code",
   "execution_count": 6,
   "id": "76149ac1",
   "metadata": {},
   "outputs": [
    {
     "data": {
      "text/plain": [
       "['a1',\n",
       " 'a2',\n",
       " 'a3.1',\n",
       " 'a3.2',\n",
       " 'a4',\n",
       " 'a5',\n",
       " 'a6',\n",
       " 'a7',\n",
       " 'a8',\n",
       " 'a9',\n",
       " 'b1',\n",
       " 'b2',\n",
       " 'b3',\n",
       " 'b4',\n",
       " 'b5.1',\n",
       " 'b5.2',\n",
       " 'c1',\n",
       " 'c2',\n",
       " 'c3',\n",
       " 'c4',\n",
       " 'c5',\n",
       " 'd1']"
      ]
     },
     "execution_count": 6,
     "metadata": {},
     "output_type": "execute_result"
    }
   ],
   "source": [
    "# put all routine times into a dictionary\n",
    "from collections import defaultdict\n",
    "\n",
    "routine_times = defaultdict(list)\n",
    "\n",
    "for routine in routines:\n",
    "    routine_name = routine['routine']\n",
    "    elapsed_time = routine['elapsedTime']\n",
    "    routine_times[routine_name].append(elapsed_time)\n",
    "\n",
    "routine_times = dict(routine_times)\n",
    "routine_mean_times = dict(routine_times)\n",
    "\n",
    "sorted(list(routine_times.keys()))"
   ]
  },
  {
   "cell_type": "code",
   "execution_count": 14,
   "id": "718773b6",
   "metadata": {},
   "outputs": [
    {
     "data": {
      "text/plain": [
       "{'b1': 2372.937910690309,\n",
       " 'b2': 2372.7177096985833,\n",
       " 'a1': 2487.123466662698,\n",
       " 'b4': 1313.162643889485,\n",
       " 'a7': 2304.2417469132797,\n",
       " 'a2': 1999.771945129445,\n",
       " 'c1': 1416.7231106620345,\n",
       " 'a3.2': 1279.3860924850076,\n",
       " 'a4': 469.53837683103944,\n",
       " 'a8': 876.4957833228942,\n",
       " 'c4': 707.7689616476714,\n",
       " 'a5': 716.9500085890443,\n",
       " 'c2': 708.2759619893642,\n",
       " 'b5.1': 353.73753516790305,\n",
       " 'a3.1': 355.1808570309573,\n",
       " 'c5': 354.0021746355526,\n",
       " 'b5.2': 353.1889834445054,\n",
       " 'a9': 366.5053002220509,\n",
       " 'a6': 354.8961865696161,\n",
       " 'c3': 353.82609906889513,\n",
       " 'b3': 352.6659504701648,\n",
       " 'd1': 178.04280500113964}"
      ]
     },
     "execution_count": 14,
     "metadata": {},
     "output_type": "execute_result"
    }
   ],
   "source": [
    "# calculate average time for each routine\n",
    "for routine_key in routine_times:\n",
    "    routine_mean_times[routine_key] = sum(routine_times[routine_key]) / len(routine_times[routine_key])\n",
    "\n",
    "routine_mean_times"
   ]
  },
  {
   "cell_type": "code",
   "execution_count": 15,
   "id": "21dd7d05",
   "metadata": {},
   "outputs": [
    {
     "data": {
      "text/plain": [
       "{'a1': 7000,\n",
       " 'a2': 7006,\n",
       " 'a3.1': 7008,\n",
       " 'a3.2': 7006,\n",
       " 'a4': 7002,\n",
       " 'a5': 6998,\n",
       " 'a6': 6994,\n",
       " 'a7': 6989,\n",
       " 'a8': 6990,\n",
       " 'a9': 6989,\n",
       " 'b1': 3248,\n",
       " 'b2': 3248,\n",
       " 'b3': 3250,\n",
       " 'b4': 3248,\n",
       " 'b5.1': 2912,\n",
       " 'b5.2': 2911,\n",
       " 'c1': 3190,\n",
       " 'c2': 3193,\n",
       " 'c3': 3193,\n",
       " 'c4': 3190,\n",
       " 'c5': 3191,\n",
       " 'd1': 1}"
      ]
     },
     "execution_count": 15,
     "metadata": {},
     "output_type": "execute_result"
    }
   ],
   "source": [
    "# calculate the total number of records for all routines\n",
    "routine_totals = dict()\n",
    "\n",
    "for key in sorted(list(routine_times.keys())):\n",
    "    routine_totals[key] = len(routine_times[key])\n",
    "    \n",
    "routine_totals"
   ]
  },
  {
   "cell_type": "code",
   "execution_count": 8,
   "id": "99004e38",
   "metadata": {},
   "outputs": [
    {
     "data": {
      "text/plain": [
       "['a1', 'a2', 'a3.1', 'a3.2', 'a4', 'a5', 'a6', 'a7', 'a8', 'a9']"
      ]
     },
     "execution_count": 8,
     "metadata": {},
     "output_type": "execute_result"
    }
   ],
   "source": [
    "# calculate the success rate for the document upload routine\n",
    "\n",
    "# find all document upload routines\n",
    "import re\n",
    "\n",
    "document_upload_routine_codes = sorted(list(filter(lambda x: re.match(\"a.*\", x), routine_times.keys())))\n",
    "document_upload_routine_codes"
   ]
  },
  {
   "cell_type": "code",
   "execution_count": 9,
   "id": "8690d660",
   "metadata": {},
   "outputs": [
    {
     "name": "stdout",
     "output_type": "stream",
     "text": [
      "a1 to a2: 7006 / 7000\n",
      "a2 to a3.1: 7008 / 7006\n",
      "a3.1 to a3.2: 7006 / 7008\n",
      "a3.2 to a4: 7002 / 7006\n",
      "a4 to a5: 6998 / 7002\n",
      "a5 to a6: 6994 / 6998\n",
      "a6 to a7: 6989 / 6994\n",
      "a7 to a8: 6990 / 6989\n",
      "a8 to a9: 6989 / 6990\n"
     ]
    },
    {
     "data": {
      "text/plain": [
       "{'a1 to a2': 1.000857142857143,\n",
       " 'a2 to a3.1': 1.0002854695974879,\n",
       " 'a3.1 to a3.2': 0.9997146118721462,\n",
       " 'a3.2 to a4': 0.9994290608050242,\n",
       " 'a4 to a5': 0.9994287346472437,\n",
       " 'a5 to a6': 0.9994284081166047,\n",
       " 'a6 to a7': 0.9992851015155848,\n",
       " 'a7 to a8': 1.000143081985978,\n",
       " 'a8 to a9': 0.999856938483548,\n",
       " 'a1 to a9': 0.9984285714285714}"
      ]
     },
     "execution_count": 9,
     "metadata": {},
     "output_type": "execute_result"
    }
   ],
   "source": [
    "prev = \"\"\n",
    "document_upload_ratios = dict()\n",
    "\n",
    "for code in document_upload_routine_codes:\n",
    "    if prev:\n",
    "        print(f\"{prev} to {code}: {len(routine_times[code])} / {len(routine_times[prev])}\")\n",
    "        document_upload_ratios[f\"{prev} to {code}\"] = len(routine_times[code]) / len(routine_times[prev])\n",
    "    prev = code\n",
    "    \n",
    "document_upload_ratios[f\"{document_upload_routine_codes[0]} to {document_upload_routine_codes[-1]}\"] = len(routine_times[document_upload_routine_codes[-1]]) / len(routine_times[document_upload_routine_codes[0]]) \n",
    "    \n",
    "document_upload_ratios"
   ]
  },
  {
   "cell_type": "code",
   "execution_count": 10,
   "id": "0a8cea99",
   "metadata": {},
   "outputs": [
    {
     "data": {
      "text/plain": [
       "['b1', 'b2', 'b3', 'b4', 'b5.1', 'b5.2']"
      ]
     },
     "execution_count": 10,
     "metadata": {},
     "output_type": "execute_result"
    }
   ],
   "source": [
    "document_approval_routine_codes = sorted(list(filter(lambda x: re.match(\"b.*\", x), routine_times.keys())))\n",
    "document_approval_routine_codes"
   ]
  },
  {
   "cell_type": "code",
   "execution_count": 11,
   "id": "719a36e0",
   "metadata": {},
   "outputs": [
    {
     "name": "stdout",
     "output_type": "stream",
     "text": [
      "b1 to b2: 3248 / 3248\n",
      "b2 to b3: 3250 / 3248\n",
      "b3 to b4: 3248 / 3250\n",
      "b4 to b5.1: 2912 / 3248\n",
      "b5.1 to b5.2: 2911 / 2912\n"
     ]
    },
    {
     "data": {
      "text/plain": [
       "{'b1 to b2': 1.0,\n",
       " 'b2 to b3': 1.000615763546798,\n",
       " 'b3 to b4': 0.9993846153846154,\n",
       " 'b4 to b5.1': 0.896551724137931,\n",
       " 'b5.1 to b5.2': 0.9996565934065934,\n",
       " 'b1 to b5.2': 0.896243842364532}"
      ]
     },
     "execution_count": 11,
     "metadata": {},
     "output_type": "execute_result"
    }
   ],
   "source": [
    "prev = \"\"\n",
    "document_approval_ratios = dict()\n",
    "\n",
    "for code in document_approval_routine_codes:\n",
    "    if prev:\n",
    "        print(f\"{prev} to {code}: {len(routine_times[code])} / {len(routine_times[prev])}\")\n",
    "        document_approval_ratios[f\"{prev} to {code}\"] = len(routine_times[code]) / len(routine_times[prev])\n",
    "    prev = code\n",
    "    \n",
    "document_approval_ratios[f\"{document_approval_routine_codes[0]} to {document_approval_routine_codes[-1]}\"] = len(routine_times[document_approval_routine_codes[-1]]) / len(routine_times[document_approval_routine_codes[0]]) \n",
    "    \n",
    "document_approval_ratios"
   ]
  },
  {
   "cell_type": "code",
   "execution_count": 12,
   "id": "c0936737",
   "metadata": {},
   "outputs": [
    {
     "data": {
      "text/plain": [
       "['c1', 'c2', 'c3', 'c4', 'c5']"
      ]
     },
     "execution_count": 12,
     "metadata": {},
     "output_type": "execute_result"
    }
   ],
   "source": [
    "document_denial_routine_codes = sorted(list(filter(lambda x: re.match(\"c.*\", x), routine_times.keys())))\n",
    "document_denial_routine_codes"
   ]
  },
  {
   "cell_type": "code",
   "execution_count": 13,
   "id": "fb679b05",
   "metadata": {},
   "outputs": [
    {
     "name": "stdout",
     "output_type": "stream",
     "text": [
      "c1 to c2: 3193 / 3190\n",
      "c2 to c3: 3193 / 3193\n",
      "c3 to c4: 3190 / 3193\n",
      "c4 to c5: 3191 / 3190\n"
     ]
    },
    {
     "data": {
      "text/plain": [
       "{'c1 to c2': 1.0009404388714733,\n",
       " 'c2 to c3': 1.0,\n",
       " 'c3 to c4': 0.9990604447228312,\n",
       " 'c4 to c5': 1.0003134796238244,\n",
       " 'c1 to c5': 1.0003134796238244}"
      ]
     },
     "execution_count": 13,
     "metadata": {},
     "output_type": "execute_result"
    }
   ],
   "source": [
    "prev = \"\"\n",
    "document_denial_ratios = dict()\n",
    "\n",
    "for code in document_denial_routine_codes:\n",
    "    if prev:\n",
    "        print(f\"{prev} to {code}: {len(routine_times[code])} / {len(routine_times[prev])}\")\n",
    "        document_denial_ratios[f\"{prev} to {code}\"] = len(routine_times[code]) / len(routine_times[prev])\n",
    "    prev = code\n",
    "    \n",
    "document_denial_ratios[f\"{document_denial_routine_codes[0]} to {document_denial_routine_codes[-1]}\"] = len(routine_times[document_denial_routine_codes[-1]]) / len(routine_times[document_denial_routine_codes[0]])     \n",
    "\n",
    "document_denial_ratios"
   ]
  }
 ],
 "metadata": {
  "kernelspec": {
   "display_name": ".venv",
   "language": "python",
   "name": "python3"
  },
  "language_info": {
   "codemirror_mode": {
    "name": "ipython",
    "version": 3
   },
   "file_extension": ".py",
   "mimetype": "text/x-python",
   "name": "python",
   "nbconvert_exporter": "python",
   "pygments_lexer": "ipython3",
   "version": "3.13.1"
  }
 },
 "nbformat": 4,
 "nbformat_minor": 5
}
