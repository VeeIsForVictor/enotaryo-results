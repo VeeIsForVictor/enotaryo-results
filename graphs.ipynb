{
 "cells": [
  {
   "cell_type": "code",
   "execution_count": null,
   "id": "c07283a8",
   "metadata": {},
   "outputs": [],
   "source": [
    "import jsonlines\n",
    "import json\n",
    "import polars as pl"
   ]
  },
  {
   "cell_type": "code",
   "execution_count": null,
   "id": "d5d3f836",
   "metadata": {},
   "outputs": [],
   "source": [
    "# lines contains all log lines\n",
    "lines = []\n",
    "with jsonlines.open('logs.jsonl') as reader:\n",
    "    for log in reader:\n",
    "        lines.append(json.JSONDecoder().decode(log['line']))\n",
    "lines[:3]"
   ]
  },
  {
   "cell_type": "code",
   "execution_count": null,
   "id": "0917d1f8",
   "metadata": {},
   "outputs": [],
   "source": [
    "# routines contains all lines relevant to routines\n",
    "routines = list(filter(lambda x: x.get('routine', None) is not None, lines))\n",
    "\n",
    "routines[:3]"
   ]
  },
  {
   "cell_type": "code",
   "execution_count": null,
   "id": "75274c9c",
   "metadata": {},
   "outputs": [],
   "source": [
    "len(routines)"
   ]
  },
  {
   "cell_type": "code",
   "execution_count": null,
   "id": "76149ac1",
   "metadata": {},
   "outputs": [],
   "source": [
    "# put all routine times into a dictionary\n",
    "from collections import defaultdict\n",
    "\n",
    "routine_times = defaultdict(list)\n",
    "\n",
    "for routine in routines:\n",
    "    routine_name = routine['routine']\n",
    "    elapsed_time = routine['elapsedTime']\n",
    "    routine_times[routine_name].append(elapsed_time)\n",
    "\n",
    "routine_times = dict(routine_times)\n",
    "\n",
    "sorted(list(routine_times.keys()))"
   ]
  },
  {
   "cell_type": "code",
   "execution_count": null,
   "id": "718773b6",
   "metadata": {},
   "outputs": [],
   "source": [
    "# calculate average time for each routine\n",
    "for routine_key in routine_times:\n",
    "    routine_times[routine_key] = sum(routine_times[routine_key]) / len(routine_times[routine_key])\n",
    "\n",
    "routine_times = dict(sorted(routine_times.items(), key=lambda item: item[1], reverse=True))\n",
    "routine_times"
   ]
  },
  {
   "cell_type": "code",
   "execution_count": null,
   "id": "99004e38",
   "metadata": {},
   "outputs": [],
   "source": []
  }
 ],
 "metadata": {
  "kernelspec": {
   "display_name": ".venv",
   "language": "python",
   "name": "python3"
  },
  "language_info": {
   "codemirror_mode": {
    "name": "ipython",
    "version": 3
   },
   "file_extension": ".py",
   "mimetype": "text/x-python",
   "name": "python",
   "nbconvert_exporter": "python",
   "pygments_lexer": "ipython3",
   "version": "3.13.2"
  }
 },
 "nbformat": 4,
 "nbformat_minor": 5
}
