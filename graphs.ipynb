{
 "cells": [
  {
   "cell_type": "code",
   "execution_count": 22,
   "id": "c07283a8",
   "metadata": {},
   "outputs": [],
   "source": [
    "import jsonlines\n",
    "import json\n",
    "import polars as pl"
   ]
  },
  {
   "cell_type": "code",
   "execution_count": 23,
   "id": "d5d3f836",
   "metadata": {},
   "outputs": [
    {
     "data": {
      "text/plain": [
       "[{'level': 30,\n",
       "  'time': 1748016000227,\n",
       "  'pid': 1,\n",
       "  'clientAddress': '172.22.0.1',\n",
       "  'method': 'POST',\n",
       "  'url': 'https://enotaryo.crabdance.com/otp?/approve',\n",
       "  'body': {'txnId': '2406642583', 'otp': '111111'},\n",
       "  'msg': 'transaction patch attempt'},\n",
       " {'level': 30,\n",
       "  'time': 1748016000227,\n",
       "  'pid': 1,\n",
       "  'clientAddress': '172.22.0.1',\n",
       "  'method': 'POST',\n",
       "  'url': 'https://enotaryo.crabdance.com/otp?/approve',\n",
       "  'requestHandleTime': 0.03625600039958954},\n",
       " {'level': 30,\n",
       "  'time': 1748016000577,\n",
       "  'pid': 1,\n",
       "  'clientAddress': '172.22.0.1',\n",
       "  'method': 'PATCH',\n",
       "  'url': 'https://enotaryo.crabdance.com/api/otpTransaction',\n",
       "  'requestHandleTime': 0.016787000000476837}]"
      ]
     },
     "execution_count": 23,
     "metadata": {},
     "output_type": "execute_result"
    }
   ],
   "source": [
    "# lines contains all log lines\n",
    "lines = []\n",
    "with jsonlines.open('logs.jsonl') as reader:\n",
    "    for log in reader:\n",
    "        lines.append(json.JSONDecoder().decode(log['line']))\n",
    "lines[:3]"
   ]
  },
  {
   "cell_type": "code",
   "execution_count": 24,
   "id": "94d5f1f8",
   "metadata": {},
   "outputs": [
    {
     "data": {
      "text/plain": [
       "[{'level': 30,\n",
       "  'time': 1748016000849,\n",
       "  'pid': 1020205,\n",
       "  'start': '11:59:45 PM',\n",
       "  'document': 0,\n",
       "  'msg': 'finished test #a-0'},\n",
       " {'level': 30,\n",
       "  'time': 1748016002122,\n",
       "  'pid': 1020205,\n",
       "  'start': '11:59:45 PM',\n",
       "  'msg': 'navigating to document: a-1'},\n",
       " {'level': 30,\n",
       "  'time': 1748016002141,\n",
       "  'pid': 1020205,\n",
       "  'start': '11:59:45 PM',\n",
       "  'msg': 'clicking file input: a-1'}]"
      ]
     },
     "execution_count": 24,
     "metadata": {},
     "output_type": "execute_result"
    }
   ],
   "source": [
    "# lines containing all testing log lines\n",
    "testing_lines = []\n",
    "with jsonlines.open('tester_logs.jsonl') as reader:\n",
    "    for log in reader:\n",
    "        testing_lines.append(json.JSONDecoder().decode(log['line']))\n",
    "testing_lines[:3]"
   ]
  },
  {
   "cell_type": "code",
   "execution_count": 25,
   "id": "0917d1f8",
   "metadata": {},
   "outputs": [
    {
     "data": {
      "text/plain": [
       "[{'level': 30,\n",
       "  'time': 1748016000928,\n",
       "  'pid': 1,\n",
       "  'clientAddress': '172.22.0.1',\n",
       "  'method': 'PATCH',\n",
       "  'url': 'https://enotaryo.crabdance.com/api/otpTransaction',\n",
       "  'routine': 'b3',\n",
       "  'elapsedTime': 350.1578550003469,\n",
       "  'msg': 'routine b3'},\n",
       " {'level': 30,\n",
       "  'time': 1748016003717,\n",
       "  'pid': 1,\n",
       "  'clientAddress': '172.22.0.1',\n",
       "  'method': 'POST',\n",
       "  'url': 'https://enotaryo.crabdance.com/api/document',\n",
       "  'routine': 'a3.1',\n",
       "  'elapsedTime': 369.9873789995909,\n",
       "  'msg': 'routine a3.1'},\n",
       " {'level': 30,\n",
       "  'time': 1748016004130,\n",
       "  'pid': 1,\n",
       "  'clientAddress': '172.22.0.1',\n",
       "  'method': 'PATCH',\n",
       "  'url': 'https://enotaryo.crabdance.com/api/otpTransaction',\n",
       "  'routine': 'b4',\n",
       "  'elapsedTime': 2852.8324120007455,\n",
       "  'msg': 'routine b4'}]"
      ]
     },
     "execution_count": 25,
     "metadata": {},
     "output_type": "execute_result"
    }
   ],
   "source": [
    "# routines contains all lines relevant to routines\n",
    "routines = list(filter(lambda x: x.get('routine', None) is not None, lines))\n",
    "\n",
    "routines[:3]"
   ]
  },
  {
   "cell_type": "code",
   "execution_count": 26,
   "id": "75274c9c",
   "metadata": {},
   "outputs": [
    {
     "data": {
      "text/plain": [
       "104757"
      ]
     },
     "execution_count": 26,
     "metadata": {},
     "output_type": "execute_result"
    }
   ],
   "source": [
    "len(routines)"
   ]
  },
  {
   "cell_type": "code",
   "execution_count": 27,
   "id": "76149ac1",
   "metadata": {},
   "outputs": [
    {
     "data": {
      "text/plain": [
       "['a1',\n",
       " 'a2',\n",
       " 'a3.1',\n",
       " 'a3.2',\n",
       " 'a4',\n",
       " 'a5',\n",
       " 'a6',\n",
       " 'a7',\n",
       " 'a8',\n",
       " 'a9',\n",
       " 'b1',\n",
       " 'b2',\n",
       " 'b3',\n",
       " 'b4',\n",
       " 'b5.1',\n",
       " 'b5.2',\n",
       " 'c1',\n",
       " 'c2',\n",
       " 'c3',\n",
       " 'c4',\n",
       " 'c5',\n",
       " 'd1']"
      ]
     },
     "execution_count": 27,
     "metadata": {},
     "output_type": "execute_result"
    }
   ],
   "source": [
    "# put all routine times into a dictionary\n",
    "from collections import defaultdict\n",
    "\n",
    "routine_times = defaultdict(list)\n",
    "\n",
    "for routine in routines:\n",
    "    routine_name = routine['routine']\n",
    "    elapsed_time = routine['elapsedTime']\n",
    "    routine_times[routine_name].append(elapsed_time)\n",
    "\n",
    "routine_times = dict(routine_times)\n",
    "\n",
    "sorted(list(routine_times.keys()))"
   ]
  },
  {
   "cell_type": "code",
   "execution_count": 28,
   "id": "718773b6",
   "metadata": {},
   "outputs": [
    {
     "data": {
      "text/plain": [
       "{'a1': 2487.123466662698,\n",
       " 'b1': 2372.937910690309,\n",
       " 'b2': 2372.7177096985833,\n",
       " 'a7': 2304.2417469132797,\n",
       " 'a2': 1999.771945129445,\n",
       " 'c1': 1416.7231106620345,\n",
       " 'b4': 1313.162643889485,\n",
       " 'a3.2': 1279.3860924850076,\n",
       " 'a8': 876.4957833228942,\n",
       " 'a5': 716.9500085890443,\n",
       " 'c2': 708.2759619893642,\n",
       " 'c4': 707.7689616476714,\n",
       " 'a4': 469.53837683103944,\n",
       " 'a9': 366.5053002220509,\n",
       " 'a3.1': 355.1808570309573,\n",
       " 'a6': 354.8961865696161,\n",
       " 'c5': 354.0021746355526,\n",
       " 'c3': 353.82609906889513,\n",
       " 'b5.1': 353.73753516790305,\n",
       " 'b5.2': 353.1889834445054,\n",
       " 'b3': 352.6659504701648,\n",
       " 'd1': 178.04280500113964}"
      ]
     },
     "execution_count": 28,
     "metadata": {},
     "output_type": "execute_result"
    }
   ],
   "source": [
    "# calculate average time for each routine\n",
    "for routine_key in routine_times:\n",
    "    routine_times[routine_key] = sum(routine_times[routine_key]) / len(routine_times[routine_key])\n",
    "\n",
    "routine_times = dict(sorted(routine_times.items(), key=lambda item: item[1], reverse=True))\n",
    "routine_times"
   ]
  },
  {
   "cell_type": "code",
   "execution_count": null,
   "id": "99004e38",
   "metadata": {},
   "outputs": [
    {
     "data": {
      "text/plain": [
       "[{'level': 30,\n",
       "  'time': 1748016005012,\n",
       "  'pid': 1,\n",
       "  'clientAddress': '172.22.0.1',\n",
       "  'method': 'POST',\n",
       "  'url': 'https://enotaryo.crabdance.com/document',\n",
       "  'routine': 'a2',\n",
       "  'elapsedTime': 2065.107153996825,\n",
       "  'msg': 'routine a2'},\n",
       " {'level': 30,\n",
       "  'time': 1748016015336,\n",
       "  'pid': 1,\n",
       "  'clientAddress': '172.22.0.1',\n",
       "  'method': 'POST',\n",
       "  'url': 'https://enotaryo.crabdance.com/document',\n",
       "  'routine': 'a2',\n",
       "  'elapsedTime': 1998.1388459987938,\n",
       "  'msg': 'routine a2'},\n",
       " {'level': 30,\n",
       "  'time': 1748016026460,\n",
       "  'pid': 1,\n",
       "  'clientAddress': '172.22.0.1',\n",
       "  'method': 'POST',\n",
       "  'url': 'https://enotaryo.crabdance.com/document',\n",
       "  'routine': 'a2',\n",
       "  'elapsedTime': 2023.6259430013597,\n",
       "  'msg': 'routine a2'}]"
      ]
     },
     "execution_count": 29,
     "metadata": {},
     "output_type": "execute_result"
    }
   ],
   "source": [
    "# calculate the success rate for the document upload routine\n",
    "\n",
    "# find all attempted document uploads\n",
    "import re\n",
    "document_uploads = list(filter(lambda x: x.get('routine', None) == 'a2', lines))\n",
    "document_uploads[:3]"
   ]
  },
  {
   "cell_type": "code",
   "execution_count": 30,
   "id": "9c46eab0",
   "metadata": {},
   "outputs": [
    {
     "data": {
      "text/plain": [
       "7006"
      ]
     },
     "execution_count": 30,
     "metadata": {},
     "output_type": "execute_result"
    }
   ],
   "source": [
    "len(document_uploads)"
   ]
  },
  {
   "cell_type": "code",
   "execution_count": null,
   "id": "88618464",
   "metadata": {},
   "outputs": [
    {
     "data": {
      "text/plain": [
       "[{'level': 30,\n",
       "  'time': 1748016009173,\n",
       "  'pid': 1,\n",
       "  'clientAddress': '172.22.0.1',\n",
       "  'method': 'POST',\n",
       "  'url': 'https://enotaryo.crabdance.com/api/otpTransaction',\n",
       "  'routine': 'a9',\n",
       "  'elapsedTime': 353.6099430024624,\n",
       "  'msg': 'routine a9'},\n",
       " {'level': 30,\n",
       "  'time': 1748016019303,\n",
       "  'pid': 1,\n",
       "  'clientAddress': '172.22.0.1',\n",
       "  'method': 'POST',\n",
       "  'url': 'https://enotaryo.crabdance.com/api/otpTransaction',\n",
       "  'routine': 'a9',\n",
       "  'elapsedTime': 396.2748529985547,\n",
       "  'msg': 'routine a9'},\n",
       " {'level': 30,\n",
       "  'time': 1748016030670,\n",
       "  'pid': 1,\n",
       "  'clientAddress': '172.22.0.1',\n",
       "  'method': 'POST',\n",
       "  'url': 'https://enotaryo.crabdance.com/api/otpTransaction',\n",
       "  'routine': 'a9',\n",
       "  'elapsedTime': 378.8348230011761,\n",
       "  'msg': 'routine a9'}]"
      ]
     },
     "execution_count": 31,
     "metadata": {},
     "output_type": "execute_result"
    }
   ],
   "source": [
    "# find all successful document uploads\n",
    "successful_uploads = list(filter(lambda x: x.get('routine', None) == 'a9', lines))\n",
    "successful_uploads[:3]"
   ]
  },
  {
   "cell_type": "code",
   "execution_count": 32,
   "id": "1bd6797e",
   "metadata": {},
   "outputs": [
    {
     "data": {
      "text/plain": [
       "6989"
      ]
     },
     "execution_count": 32,
     "metadata": {},
     "output_type": "execute_result"
    }
   ],
   "source": [
    "len(successful_uploads)"
   ]
  },
  {
   "cell_type": "code",
   "execution_count": 33,
   "id": "40c115f5",
   "metadata": {},
   "outputs": [
    {
     "data": {
      "text/plain": [
       "0.9975735084213532"
      ]
     },
     "execution_count": 33,
     "metadata": {},
     "output_type": "execute_result"
    }
   ],
   "source": [
    "len(successful_uploads) / len(document_uploads)"
   ]
  }
 ],
 "metadata": {
  "kernelspec": {
   "display_name": ".venv",
   "language": "python",
   "name": "python3"
  },
  "language_info": {
   "codemirror_mode": {
    "name": "ipython",
    "version": 3
   },
   "file_extension": ".py",
   "mimetype": "text/x-python",
   "name": "python",
   "nbconvert_exporter": "python",
   "pygments_lexer": "ipython3",
   "version": "3.13.2"
  }
 },
 "nbformat": 4,
 "nbformat_minor": 5
}
